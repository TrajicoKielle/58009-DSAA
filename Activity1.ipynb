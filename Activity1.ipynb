{
  "nbformat": 4,
  "nbformat_minor": 0,
  "metadata": {
    "colab": {
      "provenance": [],
      "authorship_tag": "ABX9TyPhedyRJ1rtkzrs0exNvoUi",
      "include_colab_link": true
    },
    "kernelspec": {
      "name": "python3",
      "display_name": "Python 3"
    },
    "language_info": {
      "name": "python"
    }
  },
  "cells": [
    {
      "cell_type": "markdown",
      "metadata": {
        "id": "view-in-github",
        "colab_type": "text"
      },
      "source": [
        "<a href=\"https://colab.research.google.com/github/TrajicoKielle/58009-DSAA/blob/main/Activity1.ipynb\" target=\"_parent\"><img src=\"https://colab.research.google.com/assets/colab-badge.svg\" alt=\"Open In Colab\"/></a>"
      ]
    },
    {
      "cell_type": "markdown",
      "source": [
        "1. Write a Python program to create an array of 10 integers and display the array items. Access individual elements through indexes and compute for the sum."
      ],
      "metadata": {
        "id": "1_CV9EmCe86L"
      }
    },
    {
      "cell_type": "code",
      "source": [
        "numbers = [5,10,15,20,25,30,35,40,45,50]\n",
        "print (numbers)\n",
        "numbers_sum=0\n",
        "for i in range(len(numbers)):\n",
        "  print(\"num\", [i],\"=\", numbers[i])\n",
        "  numbers_sum += numbers[i]\n",
        "\n",
        "print(numbers_sum)\n",
        "\n",
        "\n"
      ],
      "metadata": {
        "colab": {
          "base_uri": "https://localhost:8080/"
        },
        "id": "s2jnQ962fBoC",
        "outputId": "6624a8f2-ca14-442f-86d5-33159ab85f9f"
      },
      "execution_count": 49,
      "outputs": [
        {
          "output_type": "stream",
          "name": "stdout",
          "text": [
            "[5, 10, 15, 20, 25, 30, 35, 40, 45, 50]\n",
            "num [0] = 5\n",
            "num [1] = 10\n",
            "num [2] = 15\n",
            "num [3] = 20\n",
            "num [4] = 25\n",
            "num [5] = 30\n",
            "num [6] = 35\n",
            "num [7] = 40\n",
            "num [8] = 45\n",
            "num [9] = 50\n",
            "275\n"
          ]
        }
      ]
    },
    {
      "cell_type": "markdown",
      "source": [
        "Write a Python program to append a new item to the end of the array. Original array: numbers = [1, 2, 3, 4, 5, 6, 7, 8, 9, 10]"
      ],
      "metadata": {
        "id": "dsCWPFZ1hNi-"
      }
    },
    {
      "cell_type": "code",
      "source": [
        "numbers =[1,2,3,4,5,6,7,8,9,10]\n",
        "numbers.append(11)\n",
        "print(numbers)"
      ],
      "metadata": {
        "colab": {
          "base_uri": "https://localhost:8080/"
        },
        "id": "jqBDGG_FhQNN",
        "outputId": "c83cac82-f2e5-47fa-dc02-5c9ae16bd491"
      },
      "execution_count": 29,
      "outputs": [
        {
          "output_type": "stream",
          "name": "stdout",
          "text": [
            "[1, 2, 3, 4, 5, 6, 7, 8, 9, 10, 11]\n"
          ]
        }
      ]
    },
    {
      "cell_type": "markdown",
      "source": [
        "Write a Python program to insert a new item before the second element in an existing array. Original array: numbers = [1, 2, 3, 4, 5, 6, 7, 8, 9, 10]"
      ],
      "metadata": {
        "id": "jxOFDzw4hkd-"
      }
    },
    {
      "cell_type": "code",
      "source": [
        "numbers =[1,2,3,4,5,6,7,8,9,10]\n",
        "numbers.insert(1,100)\n",
        "print(numbers)"
      ],
      "metadata": {
        "colab": {
          "base_uri": "https://localhost:8080/"
        },
        "id": "UAyRoP6mhiXX",
        "outputId": "c9e2c49e-2f8b-4110-93a6-47598e3a0f4a"
      },
      "execution_count": 30,
      "outputs": [
        {
          "output_type": "stream",
          "name": "stdout",
          "text": [
            "[1, 100, 2, 3, 4, 5, 6, 7, 8, 9, 10]\n"
          ]
        }
      ]
    },
    {
      "cell_type": "markdown",
      "source": [
        "Write a Python program to reverse the order of the items in the array.Original array: numbers = [5, 4, 3, 2, 1]"
      ],
      "metadata": {
        "id": "wjhk_PNIiB9A"
      }
    },
    {
      "cell_type": "code",
      "source": [
        "numbers = [5, 4, 3, 2, 1]\n",
        "numbers.sort(reverse=False)\n",
        "print (numbers)"
      ],
      "metadata": {
        "colab": {
          "base_uri": "https://localhost:8080/"
        },
        "id": "a6tKlE76iR7N",
        "outputId": "3b960a25-8e33-41fc-eed6-6b598c1e8739"
      },
      "execution_count": 36,
      "outputs": [
        {
          "output_type": "stream",
          "name": "stdout",
          "text": [
            "[1, 2, 3, 4, 5]\n"
          ]
        }
      ]
    },
    {
      "cell_type": "markdown",
      "source": [
        "Write a Python program to get the length of the array. Original array: numbers = [5, 4, 3, 2, 1]"
      ],
      "metadata": {
        "id": "hgiLJm1tifbE"
      }
    },
    {
      "cell_type": "code",
      "source": [
        "numbers = [5, 4, 3, 2, 1]\n",
        "x = len(numbers)\n",
        "print(x)"
      ],
      "metadata": {
        "colab": {
          "base_uri": "https://localhost:8080/"
        },
        "id": "7j11i9onif8V",
        "outputId": "dda91b88-18fc-4c1d-f7c2-f77368686483"
      },
      "execution_count": 35,
      "outputs": [
        {
          "output_type": "stream",
          "name": "stdout",
          "text": [
            "5\n"
          ]
        }
      ]
    }
  ]
}