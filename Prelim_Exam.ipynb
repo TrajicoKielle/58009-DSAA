{
  "nbformat": 4,
  "nbformat_minor": 0,
  "metadata": {
    "colab": {
      "provenance": [],
      "authorship_tag": "ABX9TyMb6BqpBtxK2hSH51atyGvb",
      "include_colab_link": true
    },
    "kernelspec": {
      "name": "python3",
      "display_name": "Python 3"
    },
    "language_info": {
      "name": "python"
    }
  },
  "cells": [
    {
      "cell_type": "markdown",
      "metadata": {
        "id": "view-in-github",
        "colab_type": "text"
      },
      "source": [
        "<a href=\"https://colab.research.google.com/github/TrajicoKielle/58009-DSAA/blob/main/Prelim_Exam.ipynb\" target=\"_parent\"><img src=\"https://colab.research.google.com/assets/colab-badge.svg\" alt=\"Open In Colab\"/></a>"
      ]
    },
    {
      "cell_type": "code",
      "execution_count": 6,
      "metadata": {
        "colab": {
          "base_uri": "https://localhost:8080/"
        },
        "id": "x8DOEsglCZhA",
        "outputId": "5a1fd929-b232-463a-b7ea-756cf68fdc54"
      },
      "outputs": [
        {
          "output_type": "stream",
          "name": "stdout",
          "text": [
            "Total Score: 397\n"
          ]
        }
      ],
      "source": [
        "testscores = [26, 49, 98, 87, 62, 75]\n",
        "totalscore = sum(testscores)\n",
        "print(\"Total Score:\", totalscore)"
      ]
    },
    {
      "cell_type": "code",
      "source": [
        "testscores = [26, 49, 98, 87, 62, 75]\n",
        "testscores.sort(reverse=False)\n",
        "print(testscores)"
      ],
      "metadata": {
        "colab": {
          "base_uri": "https://localhost:8080/"
        },
        "id": "Bom109diGu4x",
        "outputId": "23606f51-f516-466d-cdc5-24d6e888f042"
      },
      "execution_count": 5,
      "outputs": [
        {
          "output_type": "stream",
          "name": "stdout",
          "text": [
            "[26, 49, 62, 75, 87, 98]\n"
          ]
        }
      ]
    }
  ]
}