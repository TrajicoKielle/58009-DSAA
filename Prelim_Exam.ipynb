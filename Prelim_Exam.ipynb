{
  "nbformat": 4,
  "nbformat_minor": 0,
  "metadata": {
    "colab": {
      "provenance": [],
      "authorship_tag": "ABX9TyOaH58n0zpB9iB0h5o+VPSi",
      "include_colab_link": true
    },
    "kernelspec": {
      "name": "python3",
      "display_name": "Python 3"
    },
    "language_info": {
      "name": "python"
    }
  },
  "cells": [
    {
      "cell_type": "markdown",
      "metadata": {
        "id": "view-in-github",
        "colab_type": "text"
      },
      "source": [
        "<a href=\"https://colab.research.google.com/github/TrajicoKielle/58009-DSAA/blob/main/Prelim_Exam.ipynb\" target=\"_parent\"><img src=\"https://colab.research.google.com/assets/colab-badge.svg\" alt=\"Open In Colab\"/></a>"
      ]
    },
    {
      "cell_type": "code",
      "execution_count": 4,
      "metadata": {
        "colab": {
          "base_uri": "https://localhost:8080/"
        },
        "id": "x8DOEsglCZhA",
        "outputId": "e03dadfc-6143-4c52-9f31-4cb8c6fc9f96"
      },
      "outputs": [
        {
          "output_type": "stream",
          "name": "stdout",
          "text": [
            "Total Score: 397\n",
            "[26, 49, 62, 75, 87, 98]\n"
          ]
        }
      ],
      "source": [
        "testscores = [26, 49, 98, 87, 62, 75]\n",
        "totalscore = sum(testscores)\n",
        "print(\"Total Score:\", totalscore)\n",
        "testscores.sort(reverse=False)\n",
        "print(testscores)"
      ]
    }
  ]
}