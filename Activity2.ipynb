{
  "nbformat": 4,
  "nbformat_minor": 0,
  "metadata": {
    "colab": {
      "provenance": [],
      "include_colab_link": true
    },
    "kernelspec": {
      "name": "python3",
      "display_name": "Python 3"
    },
    "language_info": {
      "name": "python"
    }
  },
  "cells": [
    {
      "cell_type": "markdown",
      "metadata": {
        "id": "view-in-github",
        "colab_type": "text"
      },
      "source": [
        "<a href=\"https://colab.research.google.com/github/TrajicoKielle/58009-DSAA/blob/main/Activity2.ipynb\" target=\"_parent\"><img src=\"https://colab.research.google.com/assets/colab-badge.svg\" alt=\"Open In Colab\"/></a>"
      ]
    },
    {
      "cell_type": "code",
      "source": [
        "class Node:\n",
        "    def __init__(self, data):\n",
        "        self.data = data\n",
        "        self.next = None\n",
        "\n",
        "def prime(num):\n",
        "    if num <= 1:\n",
        "        return False\n",
        "    for i in range(2, num):\n",
        "        if num % i == 0:\n",
        "            return False\n",
        "    return True\n",
        "\n",
        "def primelinkedlist(limit):\n",
        "    head = None\n",
        "    tail = None\n",
        "\n",
        "    for num in range(2, limit):\n",
        "        if prime(num):\n",
        "            new_node = Node(num)\n",
        "            if head is None:\n",
        "                head = new_node\n",
        "                tail = new_node\n",
        "            else:\n",
        "                tail.next = new_node\n",
        "                tail = new_node\n",
        "\n",
        "    return head, tail\n",
        "\n",
        "def linkedlist(head):\n",
        "    current = head\n",
        "    while current:\n",
        "        print(current.data, end=\" -> \")\n",
        "        current = current.next\n",
        "    print(\"None\")\n",
        "\n",
        "limit = 20\n",
        "prime_head, prime_tail = primelinkedlist(limit)\n",
        "\n",
        "print(\"Prime Numbers:\")\n",
        "linkedlist(prime_head)\n",
        "\n",
        "print(\"Head of the List:\", prime_head.data)\n",
        "print(\"Tail of the List:\", prime_tail.data)"
      ],
      "metadata": {
        "id": "3XuUNt3ahH8U",
        "outputId": "b84ebbac-4856-4e7f-c382-dfdd6ae8455e",
        "colab": {
          "base_uri": "https://localhost:8080/"
        }
      },
      "execution_count": 9,
      "outputs": [
        {
          "output_type": "stream",
          "name": "stdout",
          "text": [
            "Prime Numbers:\n",
            "2 -> 3 -> 5 -> 7 -> 11 -> 13 -> 17 -> 19 -> None\n",
            "Head of the List: 2\n",
            "Tail of the List: 19\n"
          ]
        }
      ]
    }
  ]
}