{
  "nbformat": 4,
  "nbformat_minor": 0,
  "metadata": {
    "colab": {
      "provenance": [],
      "include_colab_link": true
    },
    "kernelspec": {
      "name": "python3",
      "display_name": "Python 3"
    },
    "language_info": {
      "name": "python"
    }
  },
  "cells": [
    {
      "cell_type": "markdown",
      "metadata": {
        "id": "view-in-github",
        "colab_type": "text"
      },
      "source": [
        "<a href=\"https://colab.research.google.com/github/TrajicoKielle/58009-DSAA/blob/main/LongQuiz1.ipynb\" target=\"_parent\"><img src=\"https://colab.research.google.com/assets/colab-badge.svg\" alt=\"Open In Colab\"/></a>"
      ]
    },
    {
      "cell_type": "markdown",
      "source": [
        "Create a python or C++ program that appends each character of your full name and displays each character in reverse order.\n"
      ],
      "metadata": {
        "id": "NP9KtfE8ISwJ"
      }
    },
    {
      "cell_type": "code",
      "source": [
        "fullname = []\n",
        "fullname.append(\"K\")\n",
        "fullname.append(\"I\")\n",
        "fullname.append(\"E\")\n",
        "fullname.append(\"L\")\n",
        "fullname.append(\"L\")\n",
        "fullname.append(\"E\")\n",
        "fullname.append(\"T\")\n",
        "fullname.append(\"R\")\n",
        "fullname.append(\"A\")\n",
        "fullname.append(\"J\")\n",
        "fullname.append(\"I\")\n",
        "fullname.append(\"C\")\n",
        "fullname.append(\"O\")\n",
        "fullname.reverse()\n",
        "print(fullname)"
      ],
      "metadata": {
        "colab": {
          "base_uri": "https://localhost:8080/"
        },
        "id": "YSRfGwW6Yx3n",
        "outputId": "e26ef7a1-94c6-4c25-b405-5bc07e3412f0"
      },
      "execution_count": 34,
      "outputs": [
        {
          "output_type": "stream",
          "name": "stdout",
          "text": [
            "['O', 'C', 'I', 'J', 'A', 'R', 'T', 'E', 'L', 'L', 'E', 'I', 'K']\n"
          ]
        }
      ]
    },
    {
      "cell_type": "markdown",
      "source": [
        "Using the set of positive whole numbers from 1 to 10, create a python or C++ program that displays if it is prime or composite."
      ],
      "metadata": {
        "id": "o_goo2FQIW9Q"
      }
    },
    {
      "cell_type": "code",
      "source": [
        "def prime(num):\n",
        "    if num <= 1:\n",
        "      return False\n",
        "    if num == 2:\n",
        "      return True\n",
        "    if num % 2 == 0:\n",
        "      return False\n",
        "    if num == 3:\n",
        "      return True\n",
        "    i = 3\n",
        "    if num % i == 0:\n",
        "      return False\n",
        "    i += 2\n",
        "    return True\n",
        "\n",
        "for num in range(1, 11):\n",
        "    if prime(num):\n",
        "        print(f\"{num} is prime number\")\n",
        "    else:\n",
        "        print(f\"{num} is composite number\")"
      ],
      "metadata": {
        "colab": {
          "base_uri": "https://localhost:8080/"
        },
        "id": "lg6yLkXm8mNJ",
        "outputId": "e6375065-7473-49a2-d118-ee06d4e09a03"
      },
      "execution_count": 35,
      "outputs": [
        {
          "output_type": "stream",
          "name": "stdout",
          "text": [
            "1 is composite number\n",
            "2 is prime number\n",
            "3 is prime number\n",
            "4 is composite number\n",
            "5 is prime number\n",
            "6 is composite number\n",
            "7 is prime number\n",
            "8 is composite number\n",
            "9 is composite number\n",
            "10 is composite number\n"
          ]
        }
      ]
    },
    {
      "cell_type": "code",
      "source": [
        "class Node:\n",
        "    def __init__(self, data):\n",
        "        self.data = data\n",
        "        self.next = None\n",
        "\n",
        "def prime(num):\n",
        "    if num <= 1:\n",
        "      return False\n",
        "    if num == 2:\n",
        "      return True\n",
        "    if num % 2 == 0:\n",
        "      return False\n",
        "    if num == 3:\n",
        "      return True\n",
        "    i = 3\n",
        "    if num % i == 0:\n",
        "      return False\n",
        "    i += 2\n",
        "    return True\n",
        "\n",
        "def primelinkedlist(limit):\n",
        "    prime_head = None\n",
        "    prime_tail = None\n",
        "    composite_head = None\n",
        "    composite_tail = None\n",
        "\n",
        "    for num in range(1, limit + 1):\n",
        "        if prime(num):\n",
        "            new_node = Node(num)\n",
        "            if prime_head is None:\n",
        "                prime_head = new_node\n",
        "                prime_tail = new_node\n",
        "            else:\n",
        "                prime_tail.next = new_node\n",
        "                prime_tail = new_node\n",
        "        else:\n",
        "            new_node = Node(num)\n",
        "            if composite_head is None:\n",
        "                composite_head = new_node\n",
        "                composite_tail = new_node\n",
        "            else:\n",
        "                composite_tail.next = new_node\n",
        "                composite_tail = new_node\n",
        "\n",
        "    return prime_head, prime_tail, composite_head, composite_tail\n",
        "\n",
        "def linkedlist(head):\n",
        "    current = head\n",
        "    while current:\n",
        "        print(current.data, end=\" -> \")\n",
        "        current = current.next\n",
        "    print(\"None\")\n",
        "\n",
        "limit = 10\n",
        "\n",
        "prime_head, prime_tail, composite_head, composite_tail = primelinkedlist(limit)\n",
        "\n",
        "print(\"Prime Numbers:\")\n",
        "linkedlist(prime_head)\n",
        "\n",
        "print(\"Composite Numbers:\")\n",
        "linkedlist(composite_head)"
      ],
      "metadata": {
        "colab": {
          "base_uri": "https://localhost:8080/"
        },
        "id": "0h9gxV3jJePg",
        "outputId": "10609817-0d76-4315-8a7c-8ab004208947"
      },
      "execution_count": 39,
      "outputs": [
        {
          "output_type": "stream",
          "name": "stdout",
          "text": [
            "Prime Numbers:\n",
            "2 -> 3 -> 5 -> 7 -> None\n",
            "Composite Numbers:\n",
            "1 -> 4 -> 6 -> 8 -> 9 -> 10 -> None\n"
          ]
        }
      ]
    }
  ]
}