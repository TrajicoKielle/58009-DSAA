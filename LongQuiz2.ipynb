{
  "nbformat": 4,
  "nbformat_minor": 0,
  "metadata": {
    "colab": {
      "provenance": [],
      "include_colab_link": true
    },
    "kernelspec": {
      "name": "python3",
      "display_name": "Python 3"
    },
    "language_info": {
      "name": "python"
    }
  },
  "cells": [
    {
      "cell_type": "markdown",
      "metadata": {
        "id": "view-in-github",
        "colab_type": "text"
      },
      "source": [
        "<a href=\"https://colab.research.google.com/github/TrajicoKielle/58009-DSAA/blob/main/LongQuiz2.ipynb\" target=\"_parent\"><img src=\"https://colab.research.google.com/assets/colab-badge.svg\" alt=\"Open In Colab\"/></a>"
      ]
    },
    {
      "cell_type": "code",
      "source": [
        "class Graph:\n",
        "   def __init__(self):\n",
        "      self.graph = {}\n",
        "\n",
        "   def addEdge(self, vertex, edges):\n",
        "      self.graph[vertex] = edges\n",
        "\n",
        "   def getVertices(self):\n",
        "      return list(self.graph.keys())\n",
        "\n",
        "g = Graph()\n",
        "g.addEdge(\"E\", [\"I\", \"J\", \"K\", \"M\"])\n",
        "g.addEdge(\"F\", [\"J\", \"I\", \"K\", \"P\"])\n",
        "g.addEdge(\"J\", [\"H\", \"E\", \"F\"])\n",
        "g.addEdge(\"H\", [\"J\", \"K\", \"I\"])\n",
        "g.addEdge(\"I\", [\"H\", \"F\", \"E\"])\n",
        "g.addEdge(\"K\", [\"H\", \"E\", \"F\"])\n",
        "g.addEdge(\"M\", [\"E\"])\n",
        "g.addEdge(\"P\", [\"F\"])\n",
        "\n",
        "print(g.getVertices())"
      ],
      "metadata": {
        "colab": {
          "base_uri": "https://localhost:8080/"
        },
        "id": "ePK2jxnOxAQ7",
        "outputId": "2ebf1207-84d4-4ef1-c6ca-c175a0c66110"
      },
      "execution_count": 1,
      "outputs": [
        {
          "output_type": "stream",
          "name": "stdout",
          "text": [
            "['E', 'F', 'J', 'H', 'I', 'K', 'M', 'P']\n"
          ]
        }
      ]
    },
    {
      "cell_type": "code",
      "source": [
        "class graph:\n",
        "   def __init__(self,gdict=None):\n",
        "      if gdict is None:\n",
        "         gdict = {}\n",
        "      self.gdict = gdict\n",
        "\n",
        "   def edges(self):\n",
        "      return self.findedges()\n",
        "\n",
        "   def findedges(self):\n",
        "      edgename = []\n",
        "      for vrtx in self.gdict:\n",
        "         for nxtvrtx in self.gdict[vrtx]:\n",
        "            if {nxtvrtx, vrtx} not in edgename:\n",
        "               edgename.append({vrtx, nxtvrtx})\n",
        "      return edgename\n",
        "\n",
        "graph_elements = {\n",
        "    \"E\" : [\"I\",\"J\", \"K\", \"M\"],\n",
        "   \"F\" : [\"J\", \"I\", \"K\", \"P\"],\n",
        "   \"J\" : [\"H\", \"E\", \"F\"],\n",
        "   \"H\" : [\"J\", \"K\", \"I\"],\n",
        "   \"I\" : [\"H\", \"F\", \"E\"],\n",
        "   \"K\" : [\"H\", \"E\", \"F\"],\n",
        "   \"M\" : [\"E\"],\n",
        "   \"P\" : [\"F\"]\n",
        "}\n",
        "g = graph(graph_elements)\n",
        "print(g.edges())"
      ],
      "metadata": {
        "colab": {
          "base_uri": "https://localhost:8080/"
        },
        "id": "uSPJlf12_apZ",
        "outputId": "246c6f65-0fd0-408a-c631-42f5b7b0ab93"
      },
      "execution_count": 2,
      "outputs": [
        {
          "output_type": "stream",
          "name": "stdout",
          "text": [
            "[{'E', 'I'}, {'J', 'E'}, {'K', 'E'}, {'M', 'E'}, {'F', 'J'}, {'F', 'I'}, {'K', 'F'}, {'F', 'P'}, {'J', 'H'}, {'K', 'H'}, {'H', 'I'}]\n"
          ]
        }
      ]
    }
  ]
}