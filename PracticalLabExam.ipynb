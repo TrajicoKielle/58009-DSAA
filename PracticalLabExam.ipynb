{
  "nbformat": 4,
  "nbformat_minor": 0,
  "metadata": {
    "colab": {
      "provenance": [],
      "authorship_tag": "ABX9TyMT6EhOK2jnKKskAikdR71v",
      "include_colab_link": true
    },
    "kernelspec": {
      "name": "python3",
      "display_name": "Python 3"
    },
    "language_info": {
      "name": "python"
    }
  },
  "cells": [
    {
      "cell_type": "markdown",
      "metadata": {
        "id": "view-in-github",
        "colab_type": "text"
      },
      "source": [
        "<a href=\"https://colab.research.google.com/github/TrajicoKielle/58009-DSAA/blob/main/PracticalLabExam.ipynb\" target=\"_parent\"><img src=\"https://colab.research.google.com/assets/colab-badge.svg\" alt=\"Open In Colab\"/></a>"
      ]
    },
    {
      "cell_type": "code",
      "execution_count": 1,
      "metadata": {
        "id": "cH0iFn1jiksA",
        "colab": {
          "base_uri": "https://localhost:8080/"
        },
        "outputId": "0a5c63ea-efe1-4b47-9b73-67cc4250d115"
      },
      "outputs": [
        {
          "output_type": "stream",
          "name": "stdout",
          "text": [
            "Sum of odd test scores: 211\n"
          ]
        }
      ],
      "source": [
        "def main():\n",
        "    odd_scores_total = 0\n",
        "\n",
        "    test_scores = [26, 49, 98, 87, 62, 75]\n",
        "\n",
        "    for score in test_scores:\n",
        "        if score % 2 != 0:\n",
        "            odd_scores_total += score\n",
        "    print(\"Sum of odd test scores:\", odd_scores_total)\n",
        "main()"
      ]
    }
  ]
}