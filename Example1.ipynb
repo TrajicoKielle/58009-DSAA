{
  "nbformat": 4,
  "nbformat_minor": 0,
  "metadata": {
    "colab": {
      "provenance": [],
      "authorship_tag": "ABX9TyNQdecgX2aFsToXXmbXFBr1",
      "include_colab_link": true
    },
    "kernelspec": {
      "name": "python3",
      "display_name": "Python 3"
    },
    "language_info": {
      "name": "python"
    }
  },
  "cells": [
    {
      "cell_type": "markdown",
      "metadata": {
        "id": "view-in-github",
        "colab_type": "text"
      },
      "source": [
        "<a href=\"https://colab.research.google.com/github/TrajicoKielle/58009-DSAA/blob/main/Example1.ipynb\" target=\"_parent\"><img src=\"https://colab.research.google.com/assets/colab-badge.svg\" alt=\"Open In Colab\"/></a>"
      ]
    },
    {
      "cell_type": "markdown",
      "source": [
        "Solve for the area of triangle"
      ],
      "metadata": {
        "id": "ibdCLwlJ1732"
      }
    },
    {
      "cell_type": "code",
      "execution_count": 1,
      "metadata": {
        "id": "cH0iFn1jiksA",
        "colab": {
          "base_uri": "https://localhost:8080/"
        },
        "outputId": "ea917847-bbd5-4cfa-9712-1ff1b5649d23"
      },
      "outputs": [
        {
          "output_type": "stream",
          "name": "stdout",
          "text": [
            "Enter the base: 4\n",
            "Enter the height: 5\n",
            "The area of the triangle is:  10.0\n"
          ]
        }
      ],
      "source": [
        "base= float(input(\"Enter the base: \"))\n",
        "height= float(input(\"Enter the height: \"))\n",
        "\n",
        "area = 0.5*base*height\n",
        "\n",
        "print(\"The area of the triangle is: \", area)"
      ]
    }
  ]
}