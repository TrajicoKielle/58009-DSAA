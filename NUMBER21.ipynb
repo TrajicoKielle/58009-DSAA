{
  "nbformat": 4,
  "nbformat_minor": 0,
  "metadata": {
    "colab": {
      "provenance": [],
      "authorship_tag": "ABX9TyM/X4gpLEUSG8x8KjGECrFp",
      "include_colab_link": true
    },
    "kernelspec": {
      "name": "python3",
      "display_name": "Python 3"
    },
    "language_info": {
      "name": "python"
    }
  },
  "cells": [
    {
      "cell_type": "markdown",
      "metadata": {
        "id": "view-in-github",
        "colab_type": "text"
      },
      "source": [
        "<a href=\"https://colab.research.google.com/github/TrajicoKielle/58009-DSAA/blob/main/NUMBER21.ipynb\" target=\"_parent\"><img src=\"https://colab.research.google.com/assets/colab-badge.svg\" alt=\"Open In Colab\"/></a>"
      ]
    },
    {
      "cell_type": "code",
      "execution_count": 3,
      "metadata": {
        "colab": {
          "base_uri": "https://localhost:8080/"
        },
        "id": "4QeDnOQRU_DZ",
        "outputId": "51a44651-c093-4fb6-d04a-d2778dea477f"
      },
      "outputs": [
        {
          "output_type": "stream",
          "name": "stdout",
          "text": [
            "['A', 'B', 'C', 'D', 'E', 'F', 'G', 'I', 'J', 'K', 'L', 'M', 'O', 'P']\n"
          ]
        }
      ],
      "source": [
        "#Display Graph Vertices\n",
        "\n",
        "class graph:\n",
        "   def __init__(self,gdict=None):\n",
        "      if gdict is None:\n",
        "         gdict = []\n",
        "      self.gdict = gdict\n",
        "# Get the keys of the dictionary\n",
        "   def getVertices(self):\n",
        "      return list(self.gdict.keys())\n",
        "# Create the dictionary with graph elements\n",
        "graph_elements = {\n",
        "   \"A\" : [\"B\"],\n",
        "   \"B\" : [\"E\", \"C\",\"F\"],\n",
        "   \"C\" : [\"E\", \"B\",\"F\",\"M\",\"D\",\"I\"],\n",
        "   \"D\" : [\"C\",\"K\",\"L\"],\n",
        "   \"E\" : [\"N\",\"B\",\"C\"],\n",
        "   \"F\" : [\"B\", \"C\",\"I\",\"G\"],\n",
        "   \"G\" : [\"I\", \"F\",\"J\"],\n",
        "   \"I\" : [\"F\", \"C\",\"G\",\"K\",\"J\"],\n",
        "   \"J\" : [\"G\", \"I\",\"K\"],\n",
        "   \"K\" : [\"D\", \"I\",\"J\"],\n",
        "   \"L\" : [\"P\", \"M\",\"D\"],\n",
        "   \"M\" : [\"N\", \"O\",\"P\",\"C\",\"L\"],\n",
        "   \"O\" : [\"N\", \"M\",\"P\"],\n",
        "   \"P\" : [\"O\", \"M\",\"L\"],\n",
        "}\n",
        "g = graph(graph_elements)\n",
        "print(g.getVertices())"
      ]
    },
    {
      "cell_type": "code",
      "source": [
        "#Display Graph Edges\n",
        "\n",
        "class graph:\n",
        "   def __init__(self,gdict=None):\n",
        "      if gdict is None:\n",
        "         gdict = {}\n",
        "      self.gdict = gdict\n",
        "\n",
        "   def edges(self):\n",
        "      return self.findedges()\n",
        "# Find the distinct list of edges\n",
        "   def findedges(self):\n",
        "      edgename = []\n",
        "      for vrtx in self.gdict:\n",
        "         for nxtvrtx in self.gdict[vrtx]:\n",
        "            if {nxtvrtx, vrtx} not in edgename:\n",
        "               edgename.append({vrtx, nxtvrtx})\n",
        "      return edgename\n",
        "# Create the dictionary with graph elements\n",
        "graph_elements = {\n",
        "   \"A\" : [\"B\"],\n",
        "   \"B\" : [\"E\", \"C\",\"F\"],\n",
        "   \"C\" : [\"E\", \"B\",\"F\",\"M\",\"D\",\"I\"],\n",
        "   \"D\" : [\"C\",\"K\",\"L\"],\n",
        "   \"E\" : [\"N\",\"B\",\"C\"],\n",
        "   \"F\" : [\"B\", \"C\",\"I\",\"G\"],\n",
        "   \"G\" : [\"I\", \"F\",\"J\"],\n",
        "   \"I\" : [\"F\", \"C\",\"G\",\"K\",\"J\"],\n",
        "   \"J\" : [\"G\", \"I\",\"K\"],\n",
        "   \"K\" : [\"D\", \"I\",\"J\"],\n",
        "   \"L\" : [\"P\", \"M\",\"D\"],\n",
        "   \"M\" : [\"N\", \"O\",\"P\",\"C\",\"L\"],\n",
        "   \"O\" : [\"N\", \"M\",\"P\"],\n",
        "   \"P\" : [\"O\", \"M\",\"L\"],\n",
        "}\n",
        "g = graph(graph_elements)\n",
        "print(g.edges())\n",
        ""
      ],
      "metadata": {
        "colab": {
          "base_uri": "https://localhost:8080/"
        },
        "id": "Q_c8aYEIg_Si",
        "outputId": "bf150da7-af5f-4f17-b737-c9be49f6b989"
      },
      "execution_count": 4,
      "outputs": [
        {
          "output_type": "stream",
          "name": "stdout",
          "text": [
            "[{'B', 'A'}, {'E', 'B'}, {'B', 'C'}, {'B', 'F'}, {'E', 'C'}, {'C', 'F'}, {'M', 'C'}, {'D', 'C'}, {'C', 'I'}, {'D', 'K'}, {'D', 'L'}, {'N', 'E'}, {'F', 'I'}, {'G', 'F'}, {'G', 'I'}, {'G', 'J'}, {'I', 'K'}, {'J', 'I'}, {'J', 'K'}, {'P', 'L'}, {'M', 'L'}, {'N', 'M'}, {'M', 'O'}, {'M', 'P'}, {'N', 'O'}, {'P', 'O'}]\n"
          ]
        }
      ]
    },
    {
      "cell_type": "code",
      "source": [],
      "metadata": {
        "id": "5QSJfDBlhA7N"
      },
      "execution_count": null,
      "outputs": []
    }
  ]
}